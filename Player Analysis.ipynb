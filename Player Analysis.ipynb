{
    "cells": [
        {
            "cell_type": "markdown",
            "metadata": {
                "collapsed": true
            },
            "source": "# Premier League Midfielder Analysis - Clustering Players By Playing Style\n\nIn this workbook, we will use Python to access data that I have stored in a series of IBM DB2 tables, looking at various performance metrics for players in the Premier League. This data comes from fbref.com.\n\nWe will use this data to try to cluster midfielders into playing styles, using the K Means Clustering algorithm.\n\nFirstly, we need to install and load relevant packages to access the IBM DB2 data using SQL code, and transform it into a Pandas dataframe for further analysis"
        },
        {
            "cell_type": "code",
            "execution_count": 1,
            "metadata": {},
            "outputs": [
                {
                    "name": "stdout",
                    "output_type": "stream",
                    "text": "Collecting ipython_sql\n  Downloading https://files.pythonhosted.org/packages/ab/3d/0d38357c620df31cebb056ca1804027112e5c008f4c2c0e16d879996ad9f/ipython_sql-0.4.0-py3-none-any.whl\nRequirement already satisfied: six in /opt/conda/envs/Python36/lib/python3.6/site-packages (from ipython_sql) (1.12.0)\nRequirement already satisfied: sqlalchemy>=0.6.7 in /opt/conda/envs/Python36/lib/python3.6/site-packages (from ipython_sql) (1.2.18)\nRequirement already satisfied: ipython-genutils>=0.1.0 in /opt/conda/envs/Python36/lib/python3.6/site-packages (from ipython_sql) (0.2.0)\nCollecting prettytable<1 (from ipython_sql)\n  Downloading https://files.pythonhosted.org/packages/ef/30/4b0746848746ed5941f052479e7c23d2b56d174b82f4fd34a25e389831f5/prettytable-0.7.2.tar.bz2\nCollecting sqlparse (from ipython_sql)\n\u001b[?25l  Downloading https://files.pythonhosted.org/packages/85/ee/6e821932f413a5c4b76be9c5936e313e4fc626b33f16e027866e1d60f588/sqlparse-0.3.1-py2.py3-none-any.whl (40kB)\n\u001b[K     |\u2588\u2588\u2588\u2588\u2588\u2588\u2588\u2588\u2588\u2588\u2588\u2588\u2588\u2588\u2588\u2588\u2588\u2588\u2588\u2588\u2588\u2588\u2588\u2588\u2588\u2588\u2588\u2588\u2588\u2588\u2588\u2588| 40kB 9.0MB/s  eta 0:00:01\n\u001b[?25hRequirement already satisfied: ipython>=1.0 in /opt/conda/envs/Python36/lib/python3.6/site-packages (from ipython_sql) (7.2.0)\nRequirement already satisfied: pygments in /opt/conda/envs/Python36/lib/python3.6/site-packages (from ipython>=1.0->ipython_sql) (2.3.1)\nRequirement already satisfied: setuptools>=18.5 in /opt/conda/envs/Python36/lib/python3.6/site-packages (from ipython>=1.0->ipython_sql) (40.8.0)\nRequirement already satisfied: jedi>=0.10 in /opt/conda/envs/Python36/lib/python3.6/site-packages (from ipython>=1.0->ipython_sql) (0.13.2)\nRequirement already satisfied: traitlets>=4.2 in /opt/conda/envs/Python36/lib/python3.6/site-packages (from ipython>=1.0->ipython_sql) (4.3.2)\nRequirement already satisfied: backcall in /opt/conda/envs/Python36/lib/python3.6/site-packages (from ipython>=1.0->ipython_sql) (0.1.0)\nRequirement already satisfied: pickleshare in /opt/conda/envs/Python36/lib/python3.6/site-packages (from ipython>=1.0->ipython_sql) (0.7.5)\nRequirement already satisfied: prompt-toolkit<2.1.0,>=2.0.0 in /opt/conda/envs/Python36/lib/python3.6/site-packages (from ipython>=1.0->ipython_sql) (2.0.8)\nRequirement already satisfied: pexpect; sys_platform != \"win32\" in /opt/conda/envs/Python36/lib/python3.6/site-packages (from ipython>=1.0->ipython_sql) (4.6.0)\nRequirement already satisfied: decorator in /opt/conda/envs/Python36/lib/python3.6/site-packages (from ipython>=1.0->ipython_sql) (4.3.2)\nRequirement already satisfied: parso>=0.3.0 in /opt/conda/envs/Python36/lib/python3.6/site-packages (from jedi>=0.10->ipython>=1.0->ipython_sql) (0.3.2)\nRequirement already satisfied: wcwidth in /opt/conda/envs/Python36/lib/python3.6/site-packages (from prompt-toolkit<2.1.0,>=2.0.0->ipython>=1.0->ipython_sql) (0.1.7)\nRequirement already satisfied: ptyprocess>=0.5 in /opt/conda/envs/Python36/lib/python3.6/site-packages (from pexpect; sys_platform != \"win32\"->ipython>=1.0->ipython_sql) (0.6.0)\nBuilding wheels for collected packages: prettytable\n  Building wheel for prettytable (setup.py) ... \u001b[?25ldone\n\u001b[?25h  Stored in directory: /home/dsxuser/.cache/pip/wheels/80/34/1c/3967380d9676d162cb59513bd9dc862d0584e045a162095606\nSuccessfully built prettytable\nInstalling collected packages: prettytable, sqlparse, ipython-sql\nSuccessfully installed ipython-sql-0.4.0 prettytable-0.7.2 sqlparse-0.3.1\nInstalled!\n"
                }
            ],
            "source": "!pip install ipython_sql\nprint(\"Installed!\")"
        },
        {
            "cell_type": "code",
            "execution_count": 2,
            "metadata": {},
            "outputs": [],
            "source": "import pandas as pd\nimport numpy as np\nimport ibm_db\nimport ibm_db_dbi\nfrom sklearn.cluster import KMeans"
        },
        {
            "cell_type": "markdown",
            "metadata": {},
            "source": "## Getting the data from SQL\n\nWith these packages now loaded, we will create a connection to the IBM DB2 database, and bring the data that we need into Python. We will return data for midfielders who have played at least 500 minutes in the 2019/20 season, prior to the break in the season enforced by the Coronavirus pandemic."
        },
        {
            "cell_type": "code",
            "execution_count": 3,
            "metadata": {},
            "outputs": [],
            "source": "%load_ext sql"
        },
        {
            "cell_type": "code",
            "execution_count": 4,
            "metadata": {},
            "outputs": [],
            "source": "# The code was removed by Watson Studio for sharing."
        },
        {
            "cell_type": "code",
            "execution_count": 5,
            "metadata": {},
            "outputs": [
                {
                    "name": "stdout",
                    "output_type": "stream",
                    "text": " * ibm_db_sa://pgv93227:***@dashdb-txn-sbox-yp-dal09-08.services.dal.bluemix.net:50000/BLUDB\nDone.\nReturning data to local variable result_set\n"
                }
            ],
            "source": "%%sql result_set << \nSELECT STD.\"Player\",STD.\"Pos\",STD.\"Squad\",STD.\"Min\",STD.\"xG90\",STD.\"xA90\",PAS.\"TotalAtt\",PAS.\"TotalCmpProp\",PAS.\"TotDist\" as \"PassTotDist\",PAS.\"PrgDist\" AS \"PassPrgDist\",PAS.\"ShortAtt\",PAS.\"MidAtt\",PAS.\"LongAtt\",PAS.\"KP\",PAS.\"ToFinalThird\",PAS.\"Prog\" as \"ProgressivePasses\",CRE.\"SCA90\",CRE.\"SCAPassLive\",CRE.\"SCAPassDead\",CRE.\"SCADrib\",CRE.\"GCA90\",DEF.\"Tkl\",DEF.\"Press\",DEF.\"Blocks\",DEF.\"Pass_Blocks\",DEF.\"Int\",DEF.\"Clr\",POS.\"Touches\",POS.\"Att_Drib\",POS.\"Drib_Succ_Prop\",POS.\"Carries\",POS.\"TotDist\" as \"CarryTotDist\",POS.\"PrgDist\" as \"CarryPrgDist\",POS.\"Pass_Targ\",POS.\"Miscon\",POS.\"Dispos\"\nFROM PLAYERSSTANDARD AS STD\nJOIN PLAYERSPASSING AS PAS ON PAS.\"Player\"=STD.\"Player\"\nJOIN PLAYERSCREATION AS CRE ON CRE.\"Player\"=STD.\"Player\"\nJOIN PLAYERDEFENSIVE AS DEF ON DEF.\"Player\"=STD.\"Player\"\nJOIN PLAYERPOSSESSION AS POS ON POS.\"Player\"=STD.\"Player\"\nWHERE STD.\"Pos\" LIKE '%MF%'\nAND STD.\"Min\" >= 500"
        },
        {
            "cell_type": "markdown",
            "metadata": {},
            "source": "## Converting to a *Pandas* Dataframe\n\nAnd we will transform this data into a Pandas dataframe for ease of further analysis.\n\nUsing the approach below, we can order the resulting dataframe by a particular attribute - in this case the average distance that a player carries the ball forwards per 90 minutes."
        },
        {
            "cell_type": "code",
            "execution_count": 6,
            "metadata": {},
            "outputs": [
                {
                    "data": {
                        "text/html": "<div>\n<style scoped>\n    .dataframe tbody tr th:only-of-type {\n        vertical-align: middle;\n    }\n\n    .dataframe tbody tr th {\n        vertical-align: top;\n    }\n\n    .dataframe thead th {\n        text-align: right;\n    }\n</style>\n<table border=\"1\" class=\"dataframe\">\n  <thead>\n    <tr style=\"text-align: right;\">\n      <th></th>\n      <th>Player</th>\n      <th>Pos</th>\n      <th>Squad</th>\n      <th>Min</th>\n      <th>xG90</th>\n      <th>xA90</th>\n      <th>TotalAtt</th>\n      <th>TotalCmpProp</th>\n      <th>PassTotDist</th>\n      <th>PassPrgDist</th>\n      <th>...</th>\n      <th>Clr</th>\n      <th>Touches</th>\n      <th>Att_Drib</th>\n      <th>Drib_Succ_Prop</th>\n      <th>Carries</th>\n      <th>CarryTotDist</th>\n      <th>CarryPrgDist</th>\n      <th>Pass_Targ</th>\n      <th>Miscon</th>\n      <th>Dispos</th>\n    </tr>\n  </thead>\n  <tbody>\n    <tr>\n      <th>14</th>\n      <td>Sofiane Boufal</td>\n      <td>MF,FW</td>\n      <td>Southampton</td>\n      <td>762</td>\n      <td>0.11</td>\n      <td>0.31</td>\n      <td>38.1</td>\n      <td>75.9</td>\n      <td>441.5</td>\n      <td>124.50</td>\n      <td>...</td>\n      <td>0.24</td>\n      <td>60.4</td>\n      <td>11.30</td>\n      <td>56.3</td>\n      <td>52.50</td>\n      <td>449.6</td>\n      <td>291.20</td>\n      <td>54.90</td>\n      <td>2.47</td>\n      <td>4.82</td>\n    </tr>\n    <tr>\n      <th>4</th>\n      <td>Felipe Anderson</td>\n      <td>MF,FW</td>\n      <td>West Ham</td>\n      <td>1407</td>\n      <td>0.16</td>\n      <td>0.18</td>\n      <td>57.2</td>\n      <td>77.5</td>\n      <td>730.7</td>\n      <td>215.30</td>\n      <td>...</td>\n      <td>0.83</td>\n      <td>71.3</td>\n      <td>6.15</td>\n      <td>67.7</td>\n      <td>57.20</td>\n      <td>458.1</td>\n      <td>285.10</td>\n      <td>64.00</td>\n      <td>2.05</td>\n      <td>2.05</td>\n    </tr>\n    <tr>\n      <th>41</th>\n      <td>Jack Grealish</td>\n      <td>FW,MF</td>\n      <td>Aston Villa</td>\n      <td>2333</td>\n      <td>0.21</td>\n      <td>0.20</td>\n      <td>44.6</td>\n      <td>78.9</td>\n      <td>674.2</td>\n      <td>185.00</td>\n      <td>...</td>\n      <td>0.39</td>\n      <td>59.3</td>\n      <td>3.71</td>\n      <td>61.5</td>\n      <td>46.70</td>\n      <td>453.7</td>\n      <td>269.20</td>\n      <td>51.90</td>\n      <td>1.89</td>\n      <td>2.36</td>\n    </tr>\n    <tr>\n      <th>108</th>\n      <td>Allan Saint-Maximin</td>\n      <td>MF,FW</td>\n      <td>Newcastle Utd</td>\n      <td>1268</td>\n      <td>0.16</td>\n      <td>0.18</td>\n      <td>22.0</td>\n      <td>70.6</td>\n      <td>269.4</td>\n      <td>62.80</td>\n      <td>...</td>\n      <td>0.14</td>\n      <td>36.9</td>\n      <td>7.59</td>\n      <td>64.5</td>\n      <td>35.50</td>\n      <td>374.3</td>\n      <td>268.40</td>\n      <td>36.50</td>\n      <td>2.62</td>\n      <td>2.98</td>\n    </tr>\n    <tr>\n      <th>137</th>\n      <td>Wilfried Zaha</td>\n      <td>MF,FW</td>\n      <td>Crystal Palace</td>\n      <td>2546</td>\n      <td>0.14</td>\n      <td>0.08</td>\n      <td>33.6</td>\n      <td>78.2</td>\n      <td>417.8</td>\n      <td>117.60</td>\n      <td>...</td>\n      <td>0.11</td>\n      <td>52.2</td>\n      <td>7.88</td>\n      <td>61.9</td>\n      <td>48.30</td>\n      <td>388.7</td>\n      <td>257.50</td>\n      <td>54.50</td>\n      <td>3.39</td>\n      <td>4.56</td>\n    </tr>\n    <tr>\n      <th>55</th>\n      <td>Diogo Jota</td>\n      <td>FW,MF</td>\n      <td>Wolves</td>\n      <td>1761</td>\n      <td>0.43</td>\n      <td>0.13</td>\n      <td>33.4</td>\n      <td>78.0</td>\n      <td>428.1</td>\n      <td>83.20</td>\n      <td>...</td>\n      <td>0.36</td>\n      <td>49.4</td>\n      <td>5.56</td>\n      <td>58.7</td>\n      <td>41.40</td>\n      <td>328.9</td>\n      <td>236.40</td>\n      <td>50.30</td>\n      <td>2.60</td>\n      <td>3.01</td>\n    </tr>\n    <tr>\n      <th>114</th>\n      <td>Bernardo Silva</td>\n      <td>FW,MF</td>\n      <td>Manchester City</td>\n      <td>1497</td>\n      <td>0.28</td>\n      <td>0.23</td>\n      <td>64.2</td>\n      <td>85.7</td>\n      <td>902.1</td>\n      <td>181.30</td>\n      <td>...</td>\n      <td>0.54</td>\n      <td>75.4</td>\n      <td>3.13</td>\n      <td>73.1</td>\n      <td>58.60</td>\n      <td>379.0</td>\n      <td>234.10</td>\n      <td>67.00</td>\n      <td>0.54</td>\n      <td>1.14</td>\n    </tr>\n    <tr>\n      <th>17</th>\n      <td>Dani Ceballos</td>\n      <td>MF</td>\n      <td>Arsenal</td>\n      <td>908</td>\n      <td>0.04</td>\n      <td>0.09</td>\n      <td>73.3</td>\n      <td>85.3</td>\n      <td>1253.5</td>\n      <td>301.40</td>\n      <td>...</td>\n      <td>0.89</td>\n      <td>83.5</td>\n      <td>2.28</td>\n      <td>69.6</td>\n      <td>63.90</td>\n      <td>431.8</td>\n      <td>231.50</td>\n      <td>65.60</td>\n      <td>0.59</td>\n      <td>1.58</td>\n    </tr>\n    <tr>\n      <th>49</th>\n      <td>Onel Hern\u00e1ndez</td>\n      <td>FW,MF</td>\n      <td>Norwich City</td>\n      <td>765</td>\n      <td>0.13</td>\n      <td>0.07</td>\n      <td>22.6</td>\n      <td>68.2</td>\n      <td>216.7</td>\n      <td>44.20</td>\n      <td>...</td>\n      <td>0.71</td>\n      <td>39.8</td>\n      <td>5.41</td>\n      <td>56.5</td>\n      <td>33.30</td>\n      <td>322.9</td>\n      <td>231.10</td>\n      <td>38.10</td>\n      <td>2.71</td>\n      <td>3.88</td>\n    </tr>\n    <tr>\n      <th>72</th>\n      <td>Riyad Mahrez</td>\n      <td>FW,MF</td>\n      <td>Manchester City</td>\n      <td>1389</td>\n      <td>0.25</td>\n      <td>0.46</td>\n      <td>56.7</td>\n      <td>84.1</td>\n      <td>858.3</td>\n      <td>207.60</td>\n      <td>...</td>\n      <td>0.45</td>\n      <td>70.5</td>\n      <td>4.55</td>\n      <td>62.9</td>\n      <td>54.50</td>\n      <td>397.7</td>\n      <td>229.40</td>\n      <td>63.50</td>\n      <td>1.17</td>\n      <td>1.82</td>\n    </tr>\n  </tbody>\n</table>\n<p>10 rows \u00d7 36 columns</p>\n</div>",
                        "text/plain": "                  Player    Pos            Squad   Min  xG90  xA90 TotalAtt  \\\n14        Sofiane Boufal  MF,FW      Southampton   762  0.11  0.31     38.1   \n4        Felipe Anderson  MF,FW         West Ham  1407  0.16  0.18     57.2   \n41         Jack Grealish  FW,MF      Aston Villa  2333  0.21  0.20     44.6   \n108  Allan Saint-Maximin  MF,FW    Newcastle Utd  1268  0.16  0.18     22.0   \n137        Wilfried Zaha  MF,FW   Crystal Palace  2546  0.14  0.08     33.6   \n55            Diogo Jota  FW,MF           Wolves  1761  0.43  0.13     33.4   \n114       Bernardo Silva  FW,MF  Manchester City  1497  0.28  0.23     64.2   \n17         Dani Ceballos     MF          Arsenal   908  0.04  0.09     73.3   \n49        Onel Hern\u00e1ndez  FW,MF     Norwich City   765  0.13  0.07     22.6   \n72          Riyad Mahrez  FW,MF  Manchester City  1389  0.25  0.46     56.7   \n\n    TotalCmpProp PassTotDist PassPrgDist  ...   Clr Touches Att_Drib  \\\n14          75.9       441.5      124.50  ...  0.24    60.4    11.30   \n4           77.5       730.7      215.30  ...  0.83    71.3     6.15   \n41          78.9       674.2      185.00  ...  0.39    59.3     3.71   \n108         70.6       269.4       62.80  ...  0.14    36.9     7.59   \n137         78.2       417.8      117.60  ...  0.11    52.2     7.88   \n55          78.0       428.1       83.20  ...  0.36    49.4     5.56   \n114         85.7       902.1      181.30  ...  0.54    75.4     3.13   \n17          85.3      1253.5      301.40  ...  0.89    83.5     2.28   \n49          68.2       216.7       44.20  ...  0.71    39.8     5.41   \n72          84.1       858.3      207.60  ...  0.45    70.5     4.55   \n\n    Drib_Succ_Prop Carries CarryTotDist CarryPrgDist Pass_Targ Miscon Dispos  \n14            56.3   52.50        449.6       291.20     54.90   2.47   4.82  \n4             67.7   57.20        458.1       285.10     64.00   2.05   2.05  \n41            61.5   46.70        453.7       269.20     51.90   1.89   2.36  \n108           64.5   35.50        374.3       268.40     36.50   2.62   2.98  \n137           61.9   48.30        388.7       257.50     54.50   3.39   4.56  \n55            58.7   41.40        328.9       236.40     50.30   2.60   3.01  \n114           73.1   58.60        379.0       234.10     67.00   0.54   1.14  \n17            69.6   63.90        431.8       231.50     65.60   0.59   1.58  \n49            56.5   33.30        322.9       231.10     38.10   2.71   3.88  \n72            62.9   54.50        397.7       229.40     63.50   1.17   1.82  \n\n[10 rows x 36 columns]"
                    },
                    "execution_count": 6,
                    "metadata": {},
                    "output_type": "execute_result"
                }
            ],
            "source": "MF_Stats=result_set.DataFrame()\nMF_Stats.sort_values(by=\"CarryPrgDist\",ascending=False).head(10)"
        },
        {
            "cell_type": "markdown",
            "metadata": {},
            "source": "Ok - now that we have the data in Python, we can begin to consider how we might look to cluster these players. Midfielders are a particularly interesting group, because there are many different styles. As a general rule, players break down into the following groups:\n\n- Holding midfielders: Primarily tasked with breaking up opposition play\n- Deep Lying \"Quarterbacks\": The focal point for the team's build-up play, getting on the ball frequently and setting the tempo with their passing\n- Box-To-Box midfielders: All-action players who contribute to both defensive and attacking phases of the game\n- Attacking midfielders: Creative players primarily tasked with generating goal-scoring opportunities, and perhaps taking shots themselves\n- Wide Men: Players who rely primarily on pace and dribbling skills to create goal-scoring chances for themselves and others\n\nIt would be really interesting to see whether we can identify these different playing styles by running a clustering algorithm on our dataset.\n\n## Preprocessing the Data\n\nTo do this, we firstly need to remove some of the columns from our dataset, such as name, team, minutes played etc, that are not relevant to playing styles"
        },
        {
            "cell_type": "code",
            "execution_count": 7,
            "metadata": {
                "scrolled": true
            },
            "outputs": [
                {
                    "data": {
                        "text/html": "<div>\n<style scoped>\n    .dataframe tbody tr th:only-of-type {\n        vertical-align: middle;\n    }\n\n    .dataframe tbody tr th {\n        vertical-align: top;\n    }\n\n    .dataframe thead th {\n        text-align: right;\n    }\n</style>\n<table border=\"1\" class=\"dataframe\">\n  <thead>\n    <tr style=\"text-align: right;\">\n      <th></th>\n      <th>xG90</th>\n      <th>xA90</th>\n      <th>TotalAtt</th>\n      <th>TotalCmpProp</th>\n      <th>PassTotDist</th>\n      <th>PassPrgDist</th>\n      <th>ShortAtt</th>\n      <th>MidAtt</th>\n      <th>LongAtt</th>\n      <th>kp</th>\n      <th>...</th>\n      <th>Clr</th>\n      <th>Touches</th>\n      <th>Att_Drib</th>\n      <th>Drib_Succ_Prop</th>\n      <th>Carries</th>\n      <th>CarryTotDist</th>\n      <th>CarryPrgDist</th>\n      <th>Pass_Targ</th>\n      <th>Miscon</th>\n      <th>Dispos</th>\n    </tr>\n  </thead>\n  <tbody>\n    <tr>\n      <th>0</th>\n      <td>0.36</td>\n      <td>0.11</td>\n      <td>38.6</td>\n      <td>77.7</td>\n      <td>496.6</td>\n      <td>114.70</td>\n      <td>2.62</td>\n      <td>28.10</td>\n      <td>7.90</td>\n      <td>1.08</td>\n      <td>...</td>\n      <td>0.77</td>\n      <td>54.6</td>\n      <td>3.23</td>\n      <td>50.8</td>\n      <td>36.10</td>\n      <td>220.4</td>\n      <td>118.80</td>\n      <td>53.10</td>\n      <td>2.21</td>\n      <td>2.77</td>\n    </tr>\n    <tr>\n      <th>1</th>\n      <td>0.20</td>\n      <td>0.03</td>\n      <td>24.9</td>\n      <td>74.5</td>\n      <td>294.2</td>\n      <td>74.10</td>\n      <td>1.71</td>\n      <td>18.50</td>\n      <td>4.71</td>\n      <td>0.57</td>\n      <td>...</td>\n      <td>0.49</td>\n      <td>38.0</td>\n      <td>3.23</td>\n      <td>49.4</td>\n      <td>29.20</td>\n      <td>277.5</td>\n      <td>159.20</td>\n      <td>38.30</td>\n      <td>1.86</td>\n      <td>1.67</td>\n    </tr>\n    <tr>\n      <th>2</th>\n      <td>0.08</td>\n      <td>0.05</td>\n      <td>50.3</td>\n      <td>84.9</td>\n      <td>679.5</td>\n      <td>197.30</td>\n      <td>2.12</td>\n      <td>41.90</td>\n      <td>6.29</td>\n      <td>0.98</td>\n      <td>...</td>\n      <td>1.06</td>\n      <td>63.5</td>\n      <td>3.79</td>\n      <td>66.0</td>\n      <td>46.80</td>\n      <td>289.5</td>\n      <td>162.10</td>\n      <td>48.30</td>\n      <td>1.52</td>\n      <td>2.12</td>\n    </tr>\n    <tr>\n      <th>3</th>\n      <td>0.12</td>\n      <td>0.01</td>\n      <td>43.0</td>\n      <td>85.9</td>\n      <td>757.1</td>\n      <td>213.10</td>\n      <td>0.71</td>\n      <td>29.00</td>\n      <td>13.20</td>\n      <td>0.12</td>\n      <td>...</td>\n      <td>6.90</td>\n      <td>56.0</td>\n      <td>0.36</td>\n      <td>66.7</td>\n      <td>30.10</td>\n      <td>119.4</td>\n      <td>56.40</td>\n      <td>35.40</td>\n      <td>0.12</td>\n      <td>0.12</td>\n    </tr>\n    <tr>\n      <th>4</th>\n      <td>0.16</td>\n      <td>0.18</td>\n      <td>57.2</td>\n      <td>77.5</td>\n      <td>730.7</td>\n      <td>215.30</td>\n      <td>3.72</td>\n      <td>44.20</td>\n      <td>9.29</td>\n      <td>1.60</td>\n      <td>...</td>\n      <td>0.83</td>\n      <td>71.3</td>\n      <td>6.15</td>\n      <td>67.7</td>\n      <td>57.20</td>\n      <td>458.1</td>\n      <td>285.10</td>\n      <td>64.00</td>\n      <td>2.05</td>\n      <td>2.05</td>\n    </tr>\n  </tbody>\n</table>\n<p>5 rows \u00d7 32 columns</p>\n</div>",
                        "text/plain": "   xG90  xA90 TotalAtt TotalCmpProp PassTotDist PassPrgDist ShortAtt MidAtt  \\\n0  0.36  0.11     38.6         77.7       496.6      114.70     2.62  28.10   \n1  0.20  0.03     24.9         74.5       294.2       74.10     1.71  18.50   \n2  0.08  0.05     50.3         84.9       679.5      197.30     2.12  41.90   \n3  0.12  0.01     43.0         85.9       757.1      213.10     0.71  29.00   \n4  0.16  0.18     57.2         77.5       730.7      215.30     3.72  44.20   \n\n  LongAtt    kp  ...   Clr Touches Att_Drib Drib_Succ_Prop Carries  \\\n0    7.90  1.08  ...  0.77    54.6     3.23           50.8   36.10   \n1    4.71  0.57  ...  0.49    38.0     3.23           49.4   29.20   \n2    6.29  0.98  ...  1.06    63.5     3.79           66.0   46.80   \n3   13.20  0.12  ...  6.90    56.0     0.36           66.7   30.10   \n4    9.29  1.60  ...  0.83    71.3     6.15           67.7   57.20   \n\n  CarryTotDist CarryPrgDist Pass_Targ Miscon Dispos  \n0        220.4       118.80     53.10   2.21   2.77  \n1        277.5       159.20     38.30   1.86   1.67  \n2        289.5       162.10     48.30   1.52   2.12  \n3        119.4        56.40     35.40   0.12   0.12  \n4        458.1       285.10     64.00   2.05   2.05  \n\n[5 rows x 32 columns]"
                    },
                    "execution_count": 7,
                    "metadata": {},
                    "output_type": "execute_result"
                }
            ],
            "source": "cluster_df = MF_Stats.drop(['Player','Pos','Squad','Min'], axis=1)\ncluster_df.head()"
        },
        {
            "cell_type": "markdown",
            "metadata": {},
            "source": "We then need to transform the resulting dataset into a Numpy Array, and scale it to ensure attributes with larger numbers don't unduly influence the clustering model."
        },
        {
            "cell_type": "code",
            "execution_count": 8,
            "metadata": {},
            "outputs": [
                {
                    "name": "stderr",
                    "output_type": "stream",
                    "text": "/opt/conda/envs/Python36/lib/python3.6/site-packages/sklearn/utils/validation.py:595: DataConversionWarning: Data with input dtype object was converted to float64 by StandardScaler.\n  warnings.warn(msg, DataConversionWarning)\n/opt/conda/envs/Python36/lib/python3.6/site-packages/sklearn/utils/validation.py:595: DataConversionWarning: Data with input dtype object was converted to float64 by StandardScaler.\n  warnings.warn(msg, DataConversionWarning)\n"
                },
                {
                    "data": {
                        "text/plain": "array([[-0.05124941, -0.50449997, -0.23114308, ...,  0.48314811,\n         0.94714454,  1.31926829],\n       [-0.97877977, -1.41898478, -0.74692269, ..., -0.79077612,\n         0.52648172,  0.10605616],\n       [-0.74689718,  0.2764834 ,  0.92936104, ...,  0.0699835 ,\n         0.11783785,  0.60237021],\n       ...,\n       [-0.86283848,  1.50469657,  1.46125877, ...,  1.02542667,\n        -1.48068086, -1.21744799],\n       [ 1.80381131, -0.73145241,  0.17180974, ...,  0.21631263,\n         0.6466711 ,  0.06193935],\n       [-0.3990733 , -0.83825355, -0.15055252, ...,  0.60365446,\n         2.36537918,  3.29349531]])"
                    },
                    "execution_count": 8,
                    "metadata": {},
                    "output_type": "execute_result"
                }
            ],
            "source": "from sklearn.preprocessing import StandardScaler\nX1 = cluster_df.values[:,1:]\nX = np.nan_to_num(X1)\nClus_dataSet = StandardScaler().fit_transform(X)\nClus_dataSet"
        },
        {
            "cell_type": "markdown",
            "metadata": {},
            "source": "## Building our Model\n\nNow that the data is in the format we need, we can run the algorithm itself. Given we listed 5 playing styles earlier, we'll tell the algorithm to see if it can find 5 groups within our list of players. We'll also set a \"random state\" so that we can repeat our results in future."
        },
        {
            "cell_type": "code",
            "execution_count": 9,
            "metadata": {},
            "outputs": [
                {
                    "name": "stdout",
                    "output_type": "stream",
                    "text": "[2 1 3 3 3 1 1 1 1 0 1 2 2 3 1 3 3 4 2 3 2 3 2 2 0 0 3 3 1 3 2 3 4 2 2 2 2\n 4 1 0 2 3 1 3 0 4 2 4 1 1 2 1 3 2 4 1 3 1 1 1 4 2 3 0 3 2 0 2 3 3 3 0 0 3\n 0 2 2 2 3 1 3 1 3 4 3 2 1 0 2 3 3 1 0 3 4 3 3 2 2 1 4 2 0 1 3 2 4 3 1 1 1\n 0 3 2 0 0 3 2 1 4 1 3 3 0 1 1 2 3 1 3 3 3 2 2 4 4 2 1]\n"
                }
            ],
            "source": "clusterNum = 5\nk_means = KMeans(init = \"k-means++\", n_clusters = clusterNum, n_init = 12,random_state=3425)\nk_means.fit(X)\nlabels = k_means.labels_\nprint(labels)"
        },
        {
            "cell_type": "markdown",
            "metadata": {},
            "source": "Great - we've generated a list of labels as an output here, ranging from 0 to 4 inclusive. However, they're not much use in isolation. We need to bring them back into our original dataset:"
        },
        {
            "cell_type": "code",
            "execution_count": 10,
            "metadata": {},
            "outputs": [
                {
                    "data": {
                        "text/html": "<div>\n<style scoped>\n    .dataframe tbody tr th:only-of-type {\n        vertical-align: middle;\n    }\n\n    .dataframe tbody tr th {\n        vertical-align: top;\n    }\n\n    .dataframe thead th {\n        text-align: right;\n    }\n</style>\n<table border=\"1\" class=\"dataframe\">\n  <thead>\n    <tr style=\"text-align: right;\">\n      <th></th>\n      <th>Player</th>\n      <th>Pos</th>\n      <th>Squad</th>\n      <th>Min</th>\n      <th>xG90</th>\n      <th>xA90</th>\n      <th>TotalAtt</th>\n      <th>TotalCmpProp</th>\n      <th>PassTotDist</th>\n      <th>PassPrgDist</th>\n      <th>...</th>\n      <th>Touches</th>\n      <th>Att_Drib</th>\n      <th>Drib_Succ_Prop</th>\n      <th>Carries</th>\n      <th>CarryTotDist</th>\n      <th>CarryPrgDist</th>\n      <th>Pass_Targ</th>\n      <th>Miscon</th>\n      <th>Dispos</th>\n      <th>Cluster</th>\n    </tr>\n  </thead>\n  <tbody>\n    <tr>\n      <th>0</th>\n      <td>Dele Alli</td>\n      <td>MF,FW</td>\n      <td>Tottenham</td>\n      <td>1758</td>\n      <td>0.36</td>\n      <td>0.11</td>\n      <td>38.6</td>\n      <td>77.7</td>\n      <td>496.6</td>\n      <td>114.70</td>\n      <td>...</td>\n      <td>54.6</td>\n      <td>3.23</td>\n      <td>50.8</td>\n      <td>36.10</td>\n      <td>220.4</td>\n      <td>118.80</td>\n      <td>53.10</td>\n      <td>2.21</td>\n      <td>2.77</td>\n      <td>2</td>\n    </tr>\n    <tr>\n      <th>1</th>\n      <td>Miguel Almir\u00f3n</td>\n      <td>FW,MF</td>\n      <td>Newcastle Utd</td>\n      <td>2370</td>\n      <td>0.20</td>\n      <td>0.03</td>\n      <td>24.9</td>\n      <td>74.5</td>\n      <td>294.2</td>\n      <td>74.10</td>\n      <td>...</td>\n      <td>38.0</td>\n      <td>3.23</td>\n      <td>49.4</td>\n      <td>29.20</td>\n      <td>277.5</td>\n      <td>159.20</td>\n      <td>38.30</td>\n      <td>1.86</td>\n      <td>1.67</td>\n      <td>1</td>\n    </tr>\n    <tr>\n      <th>2</th>\n      <td>Steven Alzate</td>\n      <td>MF,DF</td>\n      <td>Brighton</td>\n      <td>1188</td>\n      <td>0.08</td>\n      <td>0.05</td>\n      <td>50.3</td>\n      <td>84.9</td>\n      <td>679.5</td>\n      <td>197.30</td>\n      <td>...</td>\n      <td>63.5</td>\n      <td>3.79</td>\n      <td>66.0</td>\n      <td>46.80</td>\n      <td>289.5</td>\n      <td>162.10</td>\n      <td>48.30</td>\n      <td>1.52</td>\n      <td>2.12</td>\n      <td>3</td>\n    </tr>\n    <tr>\n      <th>3</th>\n      <td>Ibrahim Amadou</td>\n      <td>DF,MF</td>\n      <td>Norwich City</td>\n      <td>759</td>\n      <td>0.12</td>\n      <td>0.01</td>\n      <td>43.0</td>\n      <td>85.9</td>\n      <td>757.1</td>\n      <td>213.10</td>\n      <td>...</td>\n      <td>56.0</td>\n      <td>0.36</td>\n      <td>66.7</td>\n      <td>30.10</td>\n      <td>119.4</td>\n      <td>56.40</td>\n      <td>35.40</td>\n      <td>0.12</td>\n      <td>0.12</td>\n      <td>3</td>\n    </tr>\n    <tr>\n      <th>4</th>\n      <td>Felipe Anderson</td>\n      <td>MF,FW</td>\n      <td>West Ham</td>\n      <td>1407</td>\n      <td>0.16</td>\n      <td>0.18</td>\n      <td>57.2</td>\n      <td>77.5</td>\n      <td>730.7</td>\n      <td>215.30</td>\n      <td>...</td>\n      <td>71.3</td>\n      <td>6.15</td>\n      <td>67.7</td>\n      <td>57.20</td>\n      <td>458.1</td>\n      <td>285.10</td>\n      <td>64.00</td>\n      <td>2.05</td>\n      <td>2.05</td>\n      <td>3</td>\n    </tr>\n  </tbody>\n</table>\n<p>5 rows \u00d7 37 columns</p>\n</div>",
                        "text/plain": "            Player    Pos          Squad   Min  xG90  xA90 TotalAtt  \\\n0        Dele Alli  MF,FW      Tottenham  1758  0.36  0.11     38.6   \n1   Miguel Almir\u00f3n  FW,MF  Newcastle Utd  2370  0.20  0.03     24.9   \n2    Steven Alzate  MF,DF       Brighton  1188  0.08  0.05     50.3   \n3   Ibrahim Amadou  DF,MF   Norwich City   759  0.12  0.01     43.0   \n4  Felipe Anderson  MF,FW       West Ham  1407  0.16  0.18     57.2   \n\n  TotalCmpProp PassTotDist PassPrgDist  ... Touches Att_Drib Drib_Succ_Prop  \\\n0         77.7       496.6      114.70  ...    54.6     3.23           50.8   \n1         74.5       294.2       74.10  ...    38.0     3.23           49.4   \n2         84.9       679.5      197.30  ...    63.5     3.79           66.0   \n3         85.9       757.1      213.10  ...    56.0     0.36           66.7   \n4         77.5       730.7      215.30  ...    71.3     6.15           67.7   \n\n  Carries CarryTotDist CarryPrgDist Pass_Targ Miscon Dispos Cluster  \n0   36.10        220.4       118.80     53.10   2.21   2.77       2  \n1   29.20        277.5       159.20     38.30   1.86   1.67       1  \n2   46.80        289.5       162.10     48.30   1.52   2.12       3  \n3   30.10        119.4        56.40     35.40   0.12   0.12       3  \n4   57.20        458.1       285.10     64.00   2.05   2.05       3  \n\n[5 rows x 37 columns]"
                    },
                    "execution_count": 10,
                    "metadata": {},
                    "output_type": "execute_result"
                }
            ],
            "source": "MF_Stats[\"Cluster\"] = labels\nMF_Stats.head(5)"
        },
        {
            "cell_type": "markdown",
            "metadata": {},
            "source": "Ok - now we can see the group that each player falls into. Dele Alli, for example, falls into cluster 2, Miguel Almiron into cluster 1, and so on. However, what we really want to understand at this stage is what the most prominent attributes are in each cluster, so that we can understand whether the clusters as a whole align to our initial ideas about playing styles.\n\n## Making Sense of Our Results\n\nWe can get a sense of this by adding the cluster labels to the dataset we originally created for the clustering model, and then looking at the average of every attribute for each cluster:"
        },
        {
            "cell_type": "code",
            "execution_count": 11,
            "metadata": {
                "scrolled": true
            },
            "outputs": [
                {
                    "data": {
                        "text/html": "<div>\n<style scoped>\n    .dataframe tbody tr th:only-of-type {\n        vertical-align: middle;\n    }\n\n    .dataframe tbody tr th {\n        vertical-align: top;\n    }\n\n    .dataframe thead th {\n        text-align: right;\n    }\n</style>\n<table border=\"1\" class=\"dataframe\">\n  <thead>\n    <tr style=\"text-align: right;\">\n      <th></th>\n      <th>xG90</th>\n      <th>xA90</th>\n      <th>TotalAtt</th>\n      <th>TotalCmpProp</th>\n      <th>PassTotDist</th>\n      <th>PassPrgDist</th>\n      <th>ShortAtt</th>\n      <th>MidAtt</th>\n      <th>LongAtt</th>\n      <th>kp</th>\n      <th>...</th>\n      <th>Touches</th>\n      <th>Att_Drib</th>\n      <th>Drib_Succ_Prop</th>\n      <th>Carries</th>\n      <th>CarryTotDist</th>\n      <th>CarryPrgDist</th>\n      <th>Pass_Targ</th>\n      <th>Miscon</th>\n      <th>Dispos</th>\n      <th>Cluster</th>\n    </tr>\n    <tr>\n      <th>Cluster</th>\n      <th></th>\n      <th></th>\n      <th></th>\n      <th></th>\n      <th></th>\n      <th></th>\n      <th></th>\n      <th></th>\n      <th></th>\n      <th></th>\n      <th></th>\n      <th></th>\n      <th></th>\n      <th></th>\n      <th></th>\n      <th></th>\n      <th></th>\n      <th></th>\n      <th></th>\n      <th></th>\n      <th></th>\n    </tr>\n  </thead>\n  <tbody>\n    <tr>\n      <th>0</th>\n      <td>0.111176</td>\n      <td>0.164118</td>\n      <td>59.782353</td>\n      <td>83.652941</td>\n      <td>967.982353</td>\n      <td>245.811765</td>\n      <td>1.993529</td>\n      <td>41.782353</td>\n      <td>16.020000</td>\n      <td>1.638824</td>\n      <td>...</td>\n      <td>70.782353</td>\n      <td>2.385882</td>\n      <td>72.011765</td>\n      <td>50.958824</td>\n      <td>291.447059</td>\n      <td>154.723529</td>\n      <td>55.988235</td>\n      <td>0.960000</td>\n      <td>1.307059</td>\n      <td>0</td>\n    </tr>\n    <tr>\n      <th>1</th>\n      <td>0.201875</td>\n      <td>0.114063</td>\n      <td>28.518750</td>\n      <td>73.153125</td>\n      <td>326.003125</td>\n      <td>86.500000</td>\n      <td>2.217500</td>\n      <td>21.381250</td>\n      <td>4.914375</td>\n      <td>1.072188</td>\n      <td>...</td>\n      <td>42.921875</td>\n      <td>4.232188</td>\n      <td>58.084375</td>\n      <td>32.634375</td>\n      <td>251.715625</td>\n      <td>152.768750</td>\n      <td>43.084375</td>\n      <td>2.274375</td>\n      <td>2.483125</td>\n      <td>1</td>\n    </tr>\n    <tr>\n      <th>2</th>\n      <td>0.143529</td>\n      <td>0.116176</td>\n      <td>39.120588</td>\n      <td>77.055882</td>\n      <td>528.764706</td>\n      <td>145.723529</td>\n      <td>2.290588</td>\n      <td>27.720588</td>\n      <td>9.104412</td>\n      <td>1.271176</td>\n      <td>...</td>\n      <td>50.961765</td>\n      <td>1.945588</td>\n      <td>58.079412</td>\n      <td>33.550000</td>\n      <td>191.385294</td>\n      <td>99.085294</td>\n      <td>41.514706</td>\n      <td>1.519706</td>\n      <td>1.512353</td>\n      <td>2</td>\n    </tr>\n    <tr>\n      <th>3</th>\n      <td>0.091463</td>\n      <td>0.097317</td>\n      <td>50.329268</td>\n      <td>81.160976</td>\n      <td>765.131707</td>\n      <td>200.400000</td>\n      <td>1.897317</td>\n      <td>35.495122</td>\n      <td>12.929268</td>\n      <td>1.132195</td>\n      <td>...</td>\n      <td>61.865854</td>\n      <td>1.980732</td>\n      <td>66.817073</td>\n      <td>41.436585</td>\n      <td>226.839024</td>\n      <td>112.860976</td>\n      <td>46.292683</td>\n      <td>1.153415</td>\n      <td>1.273415</td>\n      <td>3</td>\n    </tr>\n    <tr>\n      <th>4</th>\n      <td>0.092857</td>\n      <td>0.100714</td>\n      <td>74.807143</td>\n      <td>86.428571</td>\n      <td>1311.242857</td>\n      <td>316.264286</td>\n      <td>1.843571</td>\n      <td>51.292857</td>\n      <td>21.664286</td>\n      <td>1.244286</td>\n      <td>...</td>\n      <td>84.607143</td>\n      <td>1.386429</td>\n      <td>74.164286</td>\n      <td>60.307143</td>\n      <td>297.685714</td>\n      <td>146.964286</td>\n      <td>65.228571</td>\n      <td>0.583571</td>\n      <td>0.848571</td>\n      <td>4</td>\n    </tr>\n  </tbody>\n</table>\n<p>5 rows \u00d7 33 columns</p>\n</div>",
                        "text/plain": "             xG90      xA90   TotalAtt  TotalCmpProp  PassTotDist  \\\nCluster                                                             \n0        0.111176  0.164118  59.782353     83.652941   967.982353   \n1        0.201875  0.114063  28.518750     73.153125   326.003125   \n2        0.143529  0.116176  39.120588     77.055882   528.764706   \n3        0.091463  0.097317  50.329268     81.160976   765.131707   \n4        0.092857  0.100714  74.807143     86.428571  1311.242857   \n\n         PassPrgDist  ShortAtt     MidAtt    LongAtt        kp  ...  \\\nCluster                                                         ...   \n0         245.811765  1.993529  41.782353  16.020000  1.638824  ...   \n1          86.500000  2.217500  21.381250   4.914375  1.072188  ...   \n2         145.723529  2.290588  27.720588   9.104412  1.271176  ...   \n3         200.400000  1.897317  35.495122  12.929268  1.132195  ...   \n4         316.264286  1.843571  51.292857  21.664286  1.244286  ...   \n\n           Touches  Att_Drib  Drib_Succ_Prop    Carries  CarryTotDist  \\\nCluster                                                                 \n0        70.782353  2.385882       72.011765  50.958824    291.447059   \n1        42.921875  4.232188       58.084375  32.634375    251.715625   \n2        50.961765  1.945588       58.079412  33.550000    191.385294   \n3        61.865854  1.980732       66.817073  41.436585    226.839024   \n4        84.607143  1.386429       74.164286  60.307143    297.685714   \n\n         CarryPrgDist  Pass_Targ    Miscon    Dispos  Cluster  \nCluster                                                        \n0          154.723529  55.988235  0.960000  1.307059        0  \n1          152.768750  43.084375  2.274375  2.483125        1  \n2           99.085294  41.514706  1.519706  1.512353        2  \n3          112.860976  46.292683  1.153415  1.273415        3  \n4          146.964286  65.228571  0.583571  0.848571        4  \n\n[5 rows x 33 columns]"
                    },
                    "execution_count": 11,
                    "metadata": {},
                    "output_type": "execute_result"
                }
            ],
            "source": "cluster_df2=cluster_df.apply(pd.to_numeric, errors='coerce')\ncluster_df2[\"Cluster\"]=labels\nsummary_stats=pd.DataFrame(cluster_df2.groupby('Cluster').mean())\nsummary_stats[\"Cluster\"]=[0,1,2,3,4]\nsummary_stats"
        },
        {
            "cell_type": "markdown",
            "metadata": {},
            "source": "Looking at the first column, we can see that players in cluster 1 tends to having higher xG90 (expected goals per 90 minutes played), while the second column shows us that cluster 0 typically performs best for expected assists.\n\nThis feels like we're going in the right direction, but it would be great if we could see a summary of the top attributes for each cluster.\n\nWe can do this by scaling the *summary_stats* dataframe we just created, and then writing a loop to return the top 5 attributes for each cluster."
        },
        {
            "cell_type": "code",
            "execution_count": 12,
            "metadata": {},
            "outputs": [],
            "source": "from sklearn.preprocessing import MinMaxScaler"
        },
        {
            "cell_type": "code",
            "execution_count": 13,
            "metadata": {},
            "outputs": [
                {
                    "name": "stderr",
                    "output_type": "stream",
                    "text": "/opt/conda/envs/Python36/lib/python3.6/site-packages/sklearn/preprocessing/data.py:334: DataConversionWarning: Data with input dtype int64, float64 were all converted to float64 by MinMaxScaler.\n  return self.partial_fit(X, y)\n"
                },
                {
                    "data": {
                        "text/html": "<div>\n<style scoped>\n    .dataframe tbody tr th:only-of-type {\n        vertical-align: middle;\n    }\n\n    .dataframe tbody tr th {\n        vertical-align: top;\n    }\n\n    .dataframe thead th {\n        text-align: right;\n    }\n</style>\n<table border=\"1\" class=\"dataframe\">\n  <thead>\n    <tr style=\"text-align: right;\">\n      <th></th>\n      <th>xG90</th>\n      <th>xA90</th>\n      <th>TotalAtt</th>\n      <th>TotalCmpProp</th>\n      <th>PassTotDist</th>\n      <th>PassPrgDist</th>\n      <th>ShortAtt</th>\n      <th>MidAtt</th>\n      <th>LongAtt</th>\n      <th>kp</th>\n      <th>...</th>\n      <th>Touches</th>\n      <th>Att_Drib</th>\n      <th>Drib_Succ_Prop</th>\n      <th>Carries</th>\n      <th>CarryTotDist</th>\n      <th>CarryPrgDist</th>\n      <th>Pass_Targ</th>\n      <th>Miscon</th>\n      <th>Dispos</th>\n      <th>Cluster</th>\n    </tr>\n    <tr>\n      <th>Cluster</th>\n      <th></th>\n      <th></th>\n      <th></th>\n      <th></th>\n      <th></th>\n      <th></th>\n      <th></th>\n      <th></th>\n      <th></th>\n      <th></th>\n      <th></th>\n      <th></th>\n      <th></th>\n      <th></th>\n      <th></th>\n      <th></th>\n      <th></th>\n      <th></th>\n      <th></th>\n      <th></th>\n      <th></th>\n    </tr>\n  </thead>\n  <tbody>\n    <tr>\n      <th>0</th>\n      <td>0.178542</td>\n      <td>1.000000</td>\n      <td>0.675409</td>\n      <td>0.790920</td>\n      <td>0.651597</td>\n      <td>0.693370</td>\n      <td>0.335464</td>\n      <td>0.682046</td>\n      <td>0.663026</td>\n      <td>1.000000</td>\n      <td>...</td>\n      <td>0.668353</td>\n      <td>0.351208</td>\n      <td>0.866177</td>\n      <td>0.662183</td>\n      <td>0.941311</td>\n      <td>1.000000</td>\n      <td>0.610340</td>\n      <td>0.222633</td>\n      <td>0.280497</td>\n      <td>0</td>\n    </tr>\n    <tr>\n      <th>1</th>\n      <td>1.000000</td>\n      <td>0.250678</td>\n      <td>0.000000</td>\n      <td>0.000000</td>\n      <td>0.000000</td>\n      <td>0.000000</td>\n      <td>0.836498</td>\n      <td>0.000000</td>\n      <td>0.000000</td>\n      <td>0.000000</td>\n      <td>...</td>\n      <td>0.000000</td>\n      <td>1.000000</td>\n      <td>0.000309</td>\n      <td>0.000000</td>\n      <td>0.567546</td>\n      <td>0.964866</td>\n      <td>0.066192</td>\n      <td>1.000000</td>\n      <td>1.000000</td>\n      <td>1</td>\n    </tr>\n    <tr>\n      <th>2</th>\n      <td>0.471563</td>\n      <td>0.282324</td>\n      <td>0.229039</td>\n      <td>0.293983</td>\n      <td>0.205799</td>\n      <td>0.257758</td>\n      <td>1.000000</td>\n      <td>0.211936</td>\n      <td>0.250153</td>\n      <td>0.351176</td>\n      <td>...</td>\n      <td>0.192871</td>\n      <td>0.196489</td>\n      <td>0.000000</td>\n      <td>0.033088</td>\n      <td>0.000000</td>\n      <td>0.000000</td>\n      <td>0.000000</td>\n      <td>0.553662</td>\n      <td>0.406093</td>\n      <td>2</td>\n    </tr>\n    <tr>\n      <th>3</th>\n      <td>0.000000</td>\n      <td>0.000000</td>\n      <td>0.471188</td>\n      <td>0.603208</td>\n      <td>0.445707</td>\n      <td>0.495725</td>\n      <td>0.120232</td>\n      <td>0.471853</td>\n      <td>0.478504</td>\n      <td>0.105902</td>\n      <td>...</td>\n      <td>0.454453</td>\n      <td>0.208838</td>\n      <td>0.543222</td>\n      <td>0.318082</td>\n      <td>0.333524</td>\n      <td>0.247594</td>\n      <td>0.201485</td>\n      <td>0.337025</td>\n      <td>0.259914</td>\n      <td>3</td>\n    </tr>\n    <tr>\n      <th>4</th>\n      <td>0.012623</td>\n      <td>0.050856</td>\n      <td>1.000000</td>\n      <td>1.000000</td>\n      <td>1.000000</td>\n      <td>1.000000</td>\n      <td>0.000000</td>\n      <td>1.000000</td>\n      <td>1.000000</td>\n      <td>0.303719</td>\n      <td>...</td>\n      <td>1.000000</td>\n      <td>0.000000</td>\n      <td>1.000000</td>\n      <td>1.000000</td>\n      <td>1.000000</td>\n      <td>0.860541</td>\n      <td>1.000000</td>\n      <td>0.000000</td>\n      <td>0.000000</td>\n      <td>4</td>\n    </tr>\n  </tbody>\n</table>\n<p>5 rows \u00d7 33 columns</p>\n</div>",
                        "text/plain": "             xG90      xA90  TotalAtt  TotalCmpProp  PassTotDist  PassPrgDist  \\\nCluster                                                                         \n0        0.178542  1.000000  0.675409      0.790920     0.651597     0.693370   \n1        1.000000  0.250678  0.000000      0.000000     0.000000     0.000000   \n2        0.471563  0.282324  0.229039      0.293983     0.205799     0.257758   \n3        0.000000  0.000000  0.471188      0.603208     0.445707     0.495725   \n4        0.012623  0.050856  1.000000      1.000000     1.000000     1.000000   \n\n         ShortAtt    MidAtt   LongAtt        kp  ...   Touches  Att_Drib  \\\nCluster                                          ...                       \n0        0.335464  0.682046  0.663026  1.000000  ...  0.668353  0.351208   \n1        0.836498  0.000000  0.000000  0.000000  ...  0.000000  1.000000   \n2        1.000000  0.211936  0.250153  0.351176  ...  0.192871  0.196489   \n3        0.120232  0.471853  0.478504  0.105902  ...  0.454453  0.208838   \n4        0.000000  1.000000  1.000000  0.303719  ...  1.000000  0.000000   \n\n         Drib_Succ_Prop   Carries  CarryTotDist  CarryPrgDist  Pass_Targ  \\\nCluster                                                                    \n0              0.866177  0.662183      0.941311      1.000000   0.610340   \n1              0.000309  0.000000      0.567546      0.964866   0.066192   \n2              0.000000  0.033088      0.000000      0.000000   0.000000   \n3              0.543222  0.318082      0.333524      0.247594   0.201485   \n4              1.000000  1.000000      1.000000      0.860541   1.000000   \n\n           Miscon    Dispos  Cluster  \nCluster                               \n0        0.222633  0.280497        0  \n1        1.000000  1.000000        1  \n2        0.553662  0.406093        2  \n3        0.337025  0.259914        3  \n4        0.000000  0.000000        4  \n\n[5 rows x 33 columns]"
                    },
                    "execution_count": 13,
                    "metadata": {},
                    "output_type": "execute_result"
                }
            ],
            "source": "min_max_scaler = MinMaxScaler()\n\nnew_array = min_max_scaler.fit_transform(summary_stats)\nscaled_df = pd.DataFrame(new_array, index=summary_stats.index, columns=summary_stats.columns)\nscaled_df[\"Cluster\"]=summary_stats[\"Cluster\"]\nscaled_df"
        },
        {
            "cell_type": "code",
            "execution_count": 14,
            "metadata": {},
            "outputs": [
                {
                    "name": "stdout",
                    "output_type": "stream",
                    "text": "----0----\n           stat  score\n0            kp    1.0\n1   SCAPassDead    1.0\n2         gca90    1.0\n3  CarryPrgDist    1.0\n4   SCAPassLive    1.0\n\n\n----1----\n       stat  score\n0      xG90    1.0\n1  Att_Drib    1.0\n2    Dispos    1.0\n3    Miscon    1.0\n4   SCADrib    1.0\n\n\n----2----\n          stat  score\n0     ShortAtt    1.0\n1  Pass_Blocks    1.0\n2       Blocks    1.0\n3        Press    1.0\n4  SCAPassDead    1.0\n\n\n----3----\n          stat  score\n0          Clr   1.00\n1          Int   0.96\n2       Blocks   0.83\n3  SCAPassDead   0.71\n4          Tkl   0.68\n\n\n----4----\n             stat  score\n0  Drib_Succ_Prop    1.0\n1    CarryTotDist    1.0\n2       Pass_Targ    1.0\n3         LongAtt    1.0\n4         Touches    1.0\n\n\n"
                }
            ],
            "source": "num_top_attributes = 5\n\nfor cluster in scaled_df[\"Cluster\"]:\n    print(\"----\"+str(cluster)+\"----\")\n    temp = scaled_df[scaled_df['Cluster'] == cluster].T.reset_index()\n    temp.columns = ['stat','score']\n    temp.sort_values(by=['score'],ascending=False,inplace=True)\n    temp = temp[temp.stat != 'Cluster']\n    temp.head(num_top_attributes)\n    temp = temp.iloc[0:]\n    temp['score'] = temp['score'].astype(float)\n    temp = temp.round({'score': 2})\n    print(temp.sort_values('score', ascending=False).reset_index(drop=True).head(num_top_attributes))\n    print('\\n')"
        },
        {
            "cell_type": "markdown",
            "metadata": {},
            "source": "This is really useful. Using the output above, we can see whether each cluster aligns to our original thoughts on the various midfield playing styles:\n\n- Cluster 0 players tend to score highly for key passes, goal creating actions, and shot creation from open play, as well as their ability to carry the ball. This would seem to align closely to our earlier definition of an *Attacking Midfielder*\n- Cluster 1 players score highly for expected goals, dribble attempts and shot creation from dribbles, which would align with our initial definition of *Wide Men*\n- Cluster 2 players score highly for short pass frequency, pressing, and pass blocking. We probably need to investigate this further, but they could be *Box-To-Box* midfielders\n- Cluster 3  players score highly for clearances, interceptions, blocks and tackles - these look like our *Holding Midfielders*\n- Cluster 4 players look to carry the ball a lot, tend to be the target of a lot of passes, and generally seem to get on the ball a lot. These look like our *Deep Lying \"Quarterbacks\"*\n\n## Reviewing Player Allocations\n\nThis looks promising - this cursory review of the clusters looks to align pretty closely to our expectations. However, we might confirm this by reviewing which players fall into each category:"
        },
        {
            "cell_type": "code",
            "execution_count": 17,
            "metadata": {},
            "outputs": [
                {
                    "data": {
                        "text/html": "<div>\n<style scoped>\n    .dataframe tbody tr th:only-of-type {\n        vertical-align: middle;\n    }\n\n    .dataframe tbody tr th {\n        vertical-align: top;\n    }\n\n    .dataframe thead th {\n        text-align: right;\n    }\n</style>\n<table border=\"1\" class=\"dataframe\">\n  <thead>\n    <tr style=\"text-align: right;\">\n      <th></th>\n      <th>Player</th>\n      <th>Pos</th>\n      <th>Squad</th>\n      <th>Min</th>\n      <th>kp</th>\n      <th>gca90</th>\n      <th>SCAPassLive</th>\n    </tr>\n  </thead>\n  <tbody>\n    <tr>\n      <th>0</th>\n      <td>Kevin De Bruyne</td>\n      <td>MF</td>\n      <td>Manchester City</td>\n      <td>2147</td>\n      <td>3.85</td>\n      <td>1.13</td>\n      <td>4.77</td>\n    </tr>\n    <tr>\n      <th>1</th>\n      <td>Riyad Mahrez</td>\n      <td>FW,MF</td>\n      <td>Manchester City</td>\n      <td>1389</td>\n      <td>2.86</td>\n      <td>1.49</td>\n      <td>4.48</td>\n    </tr>\n    <tr>\n      <th>2</th>\n      <td>David Silva</td>\n      <td>MF</td>\n      <td>Manchester City</td>\n      <td>1255</td>\n      <td>2.23</td>\n      <td>0.72</td>\n      <td>4.32</td>\n    </tr>\n    <tr>\n      <th>3</th>\n      <td>Bernardo Silva</td>\n      <td>FW,MF</td>\n      <td>Manchester City</td>\n      <td>1497</td>\n      <td>1.99</td>\n      <td>0.54</td>\n      <td>3.43</td>\n    </tr>\n    <tr>\n      <th>4</th>\n      <td>Ross Barkley</td>\n      <td>MF</td>\n      <td>Chelsea</td>\n      <td>675</td>\n      <td>2.67</td>\n      <td>0.53</td>\n      <td>3.20</td>\n    </tr>\n    <tr>\n      <th>5</th>\n      <td>Giovani Lo Celso</td>\n      <td>MF,FW</td>\n      <td>Tottenham</td>\n      <td>878</td>\n      <td>1.73</td>\n      <td>0.21</td>\n      <td>2.86</td>\n    </tr>\n    <tr>\n      <th>6</th>\n      <td>James Maddison</td>\n      <td>MF</td>\n      <td>Leicester City</td>\n      <td>2399</td>\n      <td>3.00</td>\n      <td>0.45</td>\n      <td>2.62</td>\n    </tr>\n    <tr>\n      <th>7</th>\n      <td>Nemanja Mati?</td>\n      <td>MF</td>\n      <td>Manchester Utd</td>\n      <td>959</td>\n      <td>1.12</td>\n      <td>0.09</td>\n      <td>2.34</td>\n    </tr>\n    <tr>\n      <th>8</th>\n      <td>Davy Pr\u00f6pper</td>\n      <td>MF</td>\n      <td>Brighton</td>\n      <td>2340</td>\n      <td>0.92</td>\n      <td>0.15</td>\n      <td>2.00</td>\n    </tr>\n    <tr>\n      <th>9</th>\n      <td>Jo\u00e3o Moutinho</td>\n      <td>MF</td>\n      <td>Wolves</td>\n      <td>2436</td>\n      <td>2.47</td>\n      <td>0.37</td>\n      <td>1.88</td>\n    </tr>\n  </tbody>\n</table>\n</div>",
                        "text/plain": "             Player    Pos            Squad   Min    kp gca90 SCAPassLive\n0   Kevin De Bruyne     MF  Manchester City  2147  3.85  1.13        4.77\n1      Riyad Mahrez  FW,MF  Manchester City  1389  2.86  1.49        4.48\n2       David Silva     MF  Manchester City  1255  2.23  0.72        4.32\n3    Bernardo Silva  FW,MF  Manchester City  1497  1.99  0.54        3.43\n4      Ross Barkley     MF          Chelsea   675  2.67  0.53        3.20\n5  Giovani Lo Celso  MF,FW        Tottenham   878  1.73  0.21        2.86\n6    James Maddison     MF   Leicester City  2399  3.00  0.45        2.62\n7     Nemanja Mati?     MF   Manchester Utd   959  1.12  0.09        2.34\n8      Davy Pr\u00f6pper     MF         Brighton  2340  0.92  0.15        2.00\n9     Jo\u00e3o Moutinho     MF           Wolves  2436  2.47  0.37        1.88"
                    },
                    "execution_count": 17,
                    "metadata": {},
                    "output_type": "execute_result"
                }
            ],
            "source": "MF_Stats[['Player','Pos','Squad','Min','kp','gca90','SCAPassLive']].loc[MF_Stats['Cluster'] == 0].sort_values(by=['SCAPassLive'],ascending=False).reset_index(drop=True).head(10)"
        },
        {
            "cell_type": "markdown",
            "metadata": {},
            "source": "Cluster 0 does indeed look to feature a good number of *Attacking Midfielders* - Kevin De Bruyne, James Maddison, Ross Barkley, and Giovani Lo Celso all fall into this category. However, there are also a few players here who wouldn't typically seem to fit this definition - Nemanja Matic, in particular, is more of a holding midfielder."
        },
        {
            "cell_type": "code",
            "execution_count": 18,
            "metadata": {},
            "outputs": [
                {
                    "data": {
                        "text/html": "<div>\n<style scoped>\n    .dataframe tbody tr th:only-of-type {\n        vertical-align: middle;\n    }\n\n    .dataframe tbody tr th {\n        vertical-align: top;\n    }\n\n    .dataframe thead th {\n        text-align: right;\n    }\n</style>\n<table border=\"1\" class=\"dataframe\">\n  <thead>\n    <tr style=\"text-align: right;\">\n      <th></th>\n      <th>Player</th>\n      <th>Pos</th>\n      <th>Squad</th>\n      <th>Min</th>\n      <th>xG90</th>\n      <th>Att_Drib</th>\n      <th>SCADrib</th>\n    </tr>\n  </thead>\n  <tbody>\n    <tr>\n      <th>0</th>\n      <td>Diogo Jota</td>\n      <td>FW,MF</td>\n      <td>Wolves</td>\n      <td>1761</td>\n      <td>0.43</td>\n      <td>5.56</td>\n      <td>0.61</td>\n    </tr>\n    <tr>\n      <th>1</th>\n      <td>Michail Antonio</td>\n      <td>FW,MF</td>\n      <td>West Ham</td>\n      <td>1030</td>\n      <td>0.41</td>\n      <td>6.32</td>\n      <td>0.88</td>\n    </tr>\n    <tr>\n      <th>2</th>\n      <td>Moise Kean</td>\n      <td>FW,MF</td>\n      <td>Everton</td>\n      <td>687</td>\n      <td>0.40</td>\n      <td>4.08</td>\n      <td>0.66</td>\n    </tr>\n    <tr>\n      <th>3</th>\n      <td>Ismaila Sarr</td>\n      <td>FW,MF</td>\n      <td>Watford</td>\n      <td>1226</td>\n      <td>0.36</td>\n      <td>5.29</td>\n      <td>0.22</td>\n    </tr>\n    <tr>\n      <th>4</th>\n      <td>Harvey Barnes</td>\n      <td>MF</td>\n      <td>Leicester City</td>\n      <td>1709</td>\n      <td>0.36</td>\n      <td>3.58</td>\n      <td>0.42</td>\n    </tr>\n    <tr>\n      <th>5</th>\n      <td>Ayoze P\u00e9rez</td>\n      <td>MF,FW</td>\n      <td>Leicester City</td>\n      <td>1581</td>\n      <td>0.29</td>\n      <td>3.24</td>\n      <td>0.28</td>\n    </tr>\n    <tr>\n      <th>6</th>\n      <td>Lucas Moura</td>\n      <td>FW,MF</td>\n      <td>Tottenham</td>\n      <td>1682</td>\n      <td>0.29</td>\n      <td>4.71</td>\n      <td>0.53</td>\n    </tr>\n    <tr>\n      <th>7</th>\n      <td>Anwar El Ghazi</td>\n      <td>FW,MF</td>\n      <td>Aston Villa</td>\n      <td>1675</td>\n      <td>0.29</td>\n      <td>2.20</td>\n      <td>0.32</td>\n    </tr>\n    <tr>\n      <th>8</th>\n      <td>Mason Greenwood</td>\n      <td>FW,MF</td>\n      <td>Manchester Utd</td>\n      <td>660</td>\n      <td>0.29</td>\n      <td>1.92</td>\n      <td>0.14</td>\n    </tr>\n    <tr>\n      <th>9</th>\n      <td>Joshua King</td>\n      <td>FW,MF</td>\n      <td>Bournemouth</td>\n      <td>1462</td>\n      <td>0.29</td>\n      <td>5.49</td>\n      <td>0.49</td>\n    </tr>\n  </tbody>\n</table>\n</div>",
                        "text/plain": "            Player    Pos           Squad   Min  xG90 Att_Drib SCADrib\n0       Diogo Jota  FW,MF          Wolves  1761  0.43     5.56    0.61\n1  Michail Antonio  FW,MF        West Ham  1030  0.41     6.32    0.88\n2       Moise Kean  FW,MF         Everton   687  0.40     4.08    0.66\n3     Ismaila Sarr  FW,MF         Watford  1226  0.36     5.29    0.22\n4    Harvey Barnes     MF  Leicester City  1709  0.36     3.58    0.42\n5      Ayoze P\u00e9rez  MF,FW  Leicester City  1581  0.29     3.24    0.28\n6      Lucas Moura  FW,MF       Tottenham  1682  0.29     4.71    0.53\n7   Anwar El Ghazi  FW,MF     Aston Villa  1675  0.29     2.20    0.32\n8  Mason Greenwood  FW,MF  Manchester Utd   660  0.29     1.92    0.14\n9      Joshua King  FW,MF     Bournemouth  1462  0.29     5.49    0.49"
                    },
                    "execution_count": 18,
                    "metadata": {},
                    "output_type": "execute_result"
                }
            ],
            "source": "MF_Stats[['Player','Pos','Squad','Min','xG90','Att_Drib','SCADrib']].loc[MF_Stats['Cluster'] == 1].sort_values(by=['xG90'],ascending=False).reset_index(drop=True).head(10)"
        },
        {
            "cell_type": "markdown",
            "metadata": {},
            "source": "Cluster 1 looks to be accurate as our *Wide Men* group - all of the players above could reasonably be classed in this category"
        },
        {
            "cell_type": "code",
            "execution_count": 19,
            "metadata": {},
            "outputs": [
                {
                    "data": {
                        "text/html": "<div>\n<style scoped>\n    .dataframe tbody tr th:only-of-type {\n        vertical-align: middle;\n    }\n\n    .dataframe tbody tr th {\n        vertical-align: top;\n    }\n\n    .dataframe thead th {\n        text-align: right;\n    }\n</style>\n<table border=\"1\" class=\"dataframe\">\n  <thead>\n    <tr style=\"text-align: right;\">\n      <th></th>\n      <th>Player</th>\n      <th>Pos</th>\n      <th>Squad</th>\n      <th>Min</th>\n      <th>ShortAtt</th>\n      <th>Pass_Blocks</th>\n      <th>Press</th>\n    </tr>\n  </thead>\n  <tbody>\n    <tr>\n      <th>0</th>\n      <td>Jesse Lingard</td>\n      <td>MF,FW</td>\n      <td>Manchester Utd</td>\n      <td>892</td>\n      <td>2.53</td>\n      <td>0.71</td>\n      <td>32.60</td>\n    </tr>\n    <tr>\n      <th>1</th>\n      <td>Matthew Longstaff</td>\n      <td>MF</td>\n      <td>Newcastle Utd</td>\n      <td>545</td>\n      <td>1.31</td>\n      <td>0.33</td>\n      <td>30.20</td>\n    </tr>\n    <tr>\n      <th>2</th>\n      <td>Pablo Fornals</td>\n      <td>MF</td>\n      <td>West Ham</td>\n      <td>1465</td>\n      <td>3.07</td>\n      <td>2.21</td>\n      <td>29.00</td>\n    </tr>\n    <tr>\n      <th>3</th>\n      <td>James McArthur</td>\n      <td>MF</td>\n      <td>Crystal Palace</td>\n      <td>2425</td>\n      <td>2.34</td>\n      <td>2.27</td>\n      <td>28.10</td>\n    </tr>\n    <tr>\n      <th>4</th>\n      <td>Joe Willock</td>\n      <td>MF</td>\n      <td>Arsenal</td>\n      <td>584</td>\n      <td>2.31</td>\n      <td>1.08</td>\n      <td>26.20</td>\n    </tr>\n    <tr>\n      <th>5</th>\n      <td>Andreas Pereira</td>\n      <td>MF,FW</td>\n      <td>Manchester Utd</td>\n      <td>1446</td>\n      <td>2.24</td>\n      <td>1.43</td>\n      <td>26.20</td>\n    </tr>\n    <tr>\n      <th>6</th>\n      <td>Tom Cleverley</td>\n      <td>MF</td>\n      <td>Watford</td>\n      <td>657</td>\n      <td>2.19</td>\n      <td>1.51</td>\n      <td>25.80</td>\n    </tr>\n    <tr>\n      <th>7</th>\n      <td>Ondrej Duda</td>\n      <td>MF</td>\n      <td>Norwich City</td>\n      <td>577</td>\n      <td>3.44</td>\n      <td>2.03</td>\n      <td>25.50</td>\n    </tr>\n    <tr>\n      <th>8</th>\n      <td>Gylfi Sigur\u00f0sson</td>\n      <td>MF</td>\n      <td>Everton</td>\n      <td>1994</td>\n      <td>1.44</td>\n      <td>1.49</td>\n      <td>25.40</td>\n    </tr>\n    <tr>\n      <th>9</th>\n      <td>Philip Billing</td>\n      <td>MF</td>\n      <td>Bournemouth</td>\n      <td>2164</td>\n      <td>1.75</td>\n      <td>2.54</td>\n      <td>25.10</td>\n    </tr>\n  </tbody>\n</table>\n</div>",
                        "text/plain": "              Player    Pos           Squad   Min ShortAtt Pass_Blocks  Press\n0      Jesse Lingard  MF,FW  Manchester Utd   892     2.53        0.71  32.60\n1  Matthew Longstaff     MF   Newcastle Utd   545     1.31        0.33  30.20\n2      Pablo Fornals     MF        West Ham  1465     3.07        2.21  29.00\n3     James McArthur     MF  Crystal Palace  2425     2.34        2.27  28.10\n4        Joe Willock     MF         Arsenal   584     2.31        1.08  26.20\n5    Andreas Pereira  MF,FW  Manchester Utd  1446     2.24        1.43  26.20\n6      Tom Cleverley     MF         Watford   657     2.19        1.51  25.80\n7        Ondrej Duda     MF    Norwich City   577     3.44        2.03  25.50\n8   Gylfi Sigur\u00f0sson     MF         Everton  1994     1.44        1.49  25.40\n9     Philip Billing     MF     Bournemouth  2164     1.75        2.54  25.10"
                    },
                    "execution_count": 19,
                    "metadata": {},
                    "output_type": "execute_result"
                }
            ],
            "source": "MF_Stats[['Player','Pos','Squad','Min','ShortAtt','Pass_Blocks','Press']].loc[MF_Stats['Cluster'] == 2].sort_values(by=['Press'],ascending=False).reset_index(drop=True).head(10)"
        },
        {
            "cell_type": "markdown",
            "metadata": {},
            "source": "Cluster 2 does indeed look like a good sample of *Box-To-Box* midfielders. These players tend to have a broad skill base, so can be hard to group together precisely, but most of these players could reasonably be claimed to help out at both ends of the pitch."
        },
        {
            "cell_type": "code",
            "execution_count": 20,
            "metadata": {},
            "outputs": [
                {
                    "data": {
                        "text/html": "<div>\n<style scoped>\n    .dataframe tbody tr th:only-of-type {\n        vertical-align: middle;\n    }\n\n    .dataframe tbody tr th {\n        vertical-align: top;\n    }\n\n    .dataframe thead th {\n        text-align: right;\n    }\n</style>\n<table border=\"1\" class=\"dataframe\">\n  <thead>\n    <tr style=\"text-align: right;\">\n      <th></th>\n      <th>Player</th>\n      <th>Pos</th>\n      <th>Squad</th>\n      <th>Min</th>\n      <th>Clr</th>\n      <th>Int</th>\n      <th>Blocks</th>\n    </tr>\n  </thead>\n  <tbody>\n    <tr>\n      <th>0</th>\n      <td>Wilfred Ndidi</td>\n      <td>MF</td>\n      <td>Leicester City</td>\n      <td>1894</td>\n      <td>3.05</td>\n      <td>3.10</td>\n      <td>2.52</td>\n    </tr>\n    <tr>\n      <th>1</th>\n      <td>Hamza Choudhury</td>\n      <td>MF</td>\n      <td>Leicester City</td>\n      <td>784</td>\n      <td>1.95</td>\n      <td>2.99</td>\n      <td>2.30</td>\n    </tr>\n    <tr>\n      <th>2</th>\n      <td>N'Golo Kant\u00e9</td>\n      <td>MF</td>\n      <td>Chelsea</td>\n      <td>1385</td>\n      <td>1.88</td>\n      <td>2.60</td>\n      <td>2.47</td>\n    </tr>\n    <tr>\n      <th>3</th>\n      <td>\u00c9tienne Capoue</td>\n      <td>MF</td>\n      <td>Watford</td>\n      <td>2138</td>\n      <td>2.65</td>\n      <td>2.35</td>\n      <td>1.85</td>\n    </tr>\n    <tr>\n      <th>4</th>\n      <td>Declan Rice</td>\n      <td>MF</td>\n      <td>West Ham</td>\n      <td>2610</td>\n      <td>1.76</td>\n      <td>2.10</td>\n      <td>2.00</td>\n    </tr>\n    <tr>\n      <th>5</th>\n      <td>Ibrahim Amadou</td>\n      <td>DF,MF</td>\n      <td>Norwich City</td>\n      <td>759</td>\n      <td>6.90</td>\n      <td>2.02</td>\n      <td>0.95</td>\n    </tr>\n    <tr>\n      <th>6</th>\n      <td>Jefferson Lerma</td>\n      <td>MF</td>\n      <td>Bournemouth</td>\n      <td>1943</td>\n      <td>2.22</td>\n      <td>1.94</td>\n      <td>1.48</td>\n    </tr>\n    <tr>\n      <th>7</th>\n      <td>Alexander Tettey</td>\n      <td>MF,DF</td>\n      <td>Norwich City</td>\n      <td>1782</td>\n      <td>2.93</td>\n      <td>1.77</td>\n      <td>1.72</td>\n    </tr>\n    <tr>\n      <th>8</th>\n      <td>Lewis Cook</td>\n      <td>MF</td>\n      <td>Bournemouth</td>\n      <td>1009</td>\n      <td>1.25</td>\n      <td>1.70</td>\n      <td>1.34</td>\n    </tr>\n    <tr>\n      <th>9</th>\n      <td>Scott McTominay</td>\n      <td>MF</td>\n      <td>Manchester Utd</td>\n      <td>1547</td>\n      <td>2.62</td>\n      <td>1.57</td>\n      <td>1.98</td>\n    </tr>\n  </tbody>\n</table>\n</div>",
                        "text/plain": "             Player    Pos           Squad   Min   Clr   Int Blocks\n0     Wilfred Ndidi     MF  Leicester City  1894  3.05  3.10   2.52\n1   Hamza Choudhury     MF  Leicester City   784  1.95  2.99   2.30\n2      N'Golo Kant\u00e9     MF         Chelsea  1385  1.88  2.60   2.47\n3    \u00c9tienne Capoue     MF         Watford  2138  2.65  2.35   1.85\n4       Declan Rice     MF        West Ham  2610  1.76  2.10   2.00\n5    Ibrahim Amadou  DF,MF    Norwich City   759  6.90  2.02   0.95\n6   Jefferson Lerma     MF     Bournemouth  1943  2.22  1.94   1.48\n7  Alexander Tettey  MF,DF    Norwich City  1782  2.93  1.77   1.72\n8        Lewis Cook     MF     Bournemouth  1009  1.25  1.70   1.34\n9   Scott McTominay     MF  Manchester Utd  1547  2.62  1.57   1.98"
                    },
                    "execution_count": 20,
                    "metadata": {},
                    "output_type": "execute_result"
                }
            ],
            "source": "MF_Stats[['Player','Pos','Squad','Min','Clr','Int','Blocks']].loc[MF_Stats['Cluster'] == 3].sort_values(by=['Int'],ascending=False).reset_index(drop=True).head(10)"
        },
        {
            "cell_type": "markdown",
            "metadata": {},
            "source": "Cluster 3 certainly matches our *Holding Midfielder* group - all of these players are widely regarded as fitting this description."
        },
        {
            "cell_type": "code",
            "execution_count": 22,
            "metadata": {},
            "outputs": [
                {
                    "data": {
                        "text/html": "<div>\n<style scoped>\n    .dataframe tbody tr th:only-of-type {\n        vertical-align: middle;\n    }\n\n    .dataframe tbody tr th {\n        vertical-align: top;\n    }\n\n    .dataframe thead th {\n        text-align: right;\n    }\n</style>\n<table border=\"1\" class=\"dataframe\">\n  <thead>\n    <tr style=\"text-align: right;\">\n      <th></th>\n      <th>Player</th>\n      <th>Pos</th>\n      <th>Squad</th>\n      <th>Min</th>\n      <th>CarryTotDist</th>\n      <th>Pass_Targ</th>\n      <th>Touches</th>\n    </tr>\n  </thead>\n  <tbody>\n    <tr>\n      <th>0</th>\n      <td>Rodri</td>\n      <td>MF,DF</td>\n      <td>Manchester City</td>\n      <td>1957</td>\n      <td>350.0</td>\n      <td>80.60</td>\n      <td>99.2</td>\n    </tr>\n    <tr>\n      <th>1</th>\n      <td>?lkay G\u00fcndo?an</td>\n      <td>MF</td>\n      <td>Manchester City</td>\n      <td>1593</td>\n      <td>296.6</td>\n      <td>78.40</td>\n      <td>94.0</td>\n    </tr>\n    <tr>\n      <th>2</th>\n      <td>Mateo Kova?i?</td>\n      <td>MF</td>\n      <td>Chelsea</td>\n      <td>1685</td>\n      <td>449.5</td>\n      <td>78.30</td>\n      <td>93.9</td>\n    </tr>\n    <tr>\n      <th>3</th>\n      <td>Paul Pogba</td>\n      <td>MF</td>\n      <td>Manchester Utd</td>\n      <td>522</td>\n      <td>322.2</td>\n      <td>72.40</td>\n      <td>91.7</td>\n    </tr>\n    <tr>\n      <th>4</th>\n      <td>Jorginho</td>\n      <td>MF</td>\n      <td>Chelsea</td>\n      <td>2011</td>\n      <td>287.6</td>\n      <td>69.10</td>\n      <td>92.2</td>\n    </tr>\n    <tr>\n      <th>5</th>\n      <td>Jordan Henderson</td>\n      <td>MF</td>\n      <td>Liverpool</td>\n      <td>1886</td>\n      <td>297.5</td>\n      <td>67.20</td>\n      <td>84.3</td>\n    </tr>\n    <tr>\n      <th>6</th>\n      <td>Dani Ceballos</td>\n      <td>MF</td>\n      <td>Arsenal</td>\n      <td>908</td>\n      <td>431.8</td>\n      <td>65.60</td>\n      <td>83.5</td>\n    </tr>\n    <tr>\n      <th>7</th>\n      <td>James Milner</td>\n      <td>MF,DF</td>\n      <td>Liverpool</td>\n      <td>769</td>\n      <td>228.0</td>\n      <td>65.60</td>\n      <td>84.6</td>\n    </tr>\n    <tr>\n      <th>8</th>\n      <td>Harry Winks</td>\n      <td>MF</td>\n      <td>Tottenham</td>\n      <td>1587</td>\n      <td>326.5</td>\n      <td>62.00</td>\n      <td>78.6</td>\n    </tr>\n    <tr>\n      <th>9</th>\n      <td>Fred</td>\n      <td>MF</td>\n      <td>Manchester Utd</td>\n      <td>2029</td>\n      <td>324.0</td>\n      <td>60.30</td>\n      <td>83.5</td>\n    </tr>\n  </tbody>\n</table>\n</div>",
                        "text/plain": "             Player    Pos            Squad   Min CarryTotDist Pass_Targ  \\\n0             Rodri  MF,DF  Manchester City  1957        350.0     80.60   \n1    ?lkay G\u00fcndo?an     MF  Manchester City  1593        296.6     78.40   \n2     Mateo Kova?i?     MF          Chelsea  1685        449.5     78.30   \n3        Paul Pogba     MF   Manchester Utd   522        322.2     72.40   \n4          Jorginho     MF          Chelsea  2011        287.6     69.10   \n5  Jordan Henderson     MF        Liverpool  1886        297.5     67.20   \n6     Dani Ceballos     MF          Arsenal   908        431.8     65.60   \n7      James Milner  MF,DF        Liverpool   769        228.0     65.60   \n8       Harry Winks     MF        Tottenham  1587        326.5     62.00   \n9              Fred     MF   Manchester Utd  2029        324.0     60.30   \n\n  Touches  \n0    99.2  \n1    94.0  \n2    93.9  \n3    91.7  \n4    92.2  \n5    84.3  \n6    83.5  \n7    84.6  \n8    78.6  \n9    83.5  "
                    },
                    "execution_count": 22,
                    "metadata": {},
                    "output_type": "execute_result"
                }
            ],
            "source": "MF_Stats[['Player','Pos','Squad','Min','CarryTotDist','Pass_Targ','Touches']].loc[MF_Stats['Cluster'] == 4].sort_values(by=['Pass_Targ'],ascending=False).reset_index(drop=True).head(10)"
        },
        {
            "cell_type": "markdown",
            "metadata": {},
            "source": "And finally, cluster 4 seems to capture our *Deep Lying \"Quarterbacks\"* well. Ilkay Gundogan, Paul Pogba, Jorginho, Jordan Henderson, Dani Ceballos, and Harry Winks all play this role for their respective clubs. A few of these players - Rodri and Fred, in particular, would arguably be thought of more as *Holding Midfielders*, but one reason they may fall into this category according to our model is that their teams tend to dominate possession, so as well as their defensive activities, they tend to see a lot of the ball.\n\n### Conclusions and Possible Next Steps\n\nOur clustering model seems to have worked very successfully. We have identified 5 clusters that align very closely to our initial expectations, both in terms of the key attributes highlighted, and the players that fall into these groups.\n\nA model like this could be very useful for teams looking to identify gaps in their squad (for example, those lacking players from one or more of the groups), or when seeking to replace a departing player.\n\nWe might look to improve this model by adjusting each players statistics to reflect their team's style. For example, adjusting for team possession might help us to identify players in teams that see less of the ball that perform more creative/attacking roles, but are currently being put into a more defensive cluster because they don't get the opportunity to shine at the attacking end as often (Felipe Anderson at West Ham, who is an attacking midfielder but is classified in the *Holding Midfielder* group because of his high defensive output, is a good example of this). Equally, this might see players on high possession teams switch groups, as suggested above with Rodri or Fred.\n\nWe might also enhance the model further with data from other leagues, or else build a Nearest Neighbours model using this additional data to see how players from other leagues would be grouped by this existing model.\n\nBut all of this is for another day.\n\nHuge thanks to FBRef, and their partners StatsBomb, for making this brilliant dataset publicly available."
        }
    ],
    "metadata": {
        "kernelspec": {
            "display_name": "Python 3.6",
            "language": "python",
            "name": "python3"
        },
        "language_info": {
            "codemirror_mode": {
                "name": "ipython",
                "version": 3
            },
            "file_extension": ".py",
            "mimetype": "text/x-python",
            "name": "python",
            "nbconvert_exporter": "python",
            "pygments_lexer": "ipython3",
            "version": "3.6.9"
        }
    },
    "nbformat": 4,
    "nbformat_minor": 1
}